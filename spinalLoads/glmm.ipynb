{
 "cells": [
  {
   "cell_type": "code",
   "execution_count": null,
   "metadata": {
    "vscode": {
     "languageId": "r"
    }
   },
   "outputs": [],
   "source": [
    "install.packages(\"gee\") "
   ]
  },
  {
   "cell_type": "markdown",
   "metadata": {},
   "source": [
    "Load Data"
   ]
  },
  {
   "cell_type": "code",
   "execution_count": 98,
   "metadata": {
    "vscode": {
     "languageId": "r"
    }
   },
   "outputs": [],
   "source": [
    "library(lme4)\n",
    "library(lmerTest)\n",
    "library(gee)\n",
    "path <- \"E:/Quanitifying EMG/Summary-Spinal Loads.csv\"\n",
    "data <- read.csv(path)\n",
    "# data\n",
    "data$Decade <- factor(data$Decade)\n",
    "data$Age.Group <- factor(data$Age.Group)\n",
    "data$Subject <- factor(data$Subject)\n"
   ]
  },
  {
   "cell_type": "code",
   "execution_count": 99,
   "metadata": {
    "vscode": {
     "languageId": "r"
    }
   },
   "outputs": [
    {
     "data": {
      "text/html": [
       "<table class=\"dataframe\">\n",
       "<caption>A data.frame: 5 × 48</caption>\n",
       "<thead>\n",
       "\t<tr><th></th><th scope=col>Project</th><th scope=col>Subject</th><th scope=col>Sex</th><th scope=col>Weight</th><th scope=col>BMI</th><th scope=col>Age</th><th scope=col>Age.Group</th><th scope=col>Age.Group2</th><th scope=col>Decade</th><th scope=col>Status</th><th scope=col>⋯</th><th scope=col>InferiorResultantbyMoment</th><th scope=col>SuperiorResultantbyMoment</th><th scope=col>InferiorCompressionbyBMI</th><th scope=col>SuperiorCompressionbyBMI</th><th scope=col>InferiorAnteriorPosteriorShearbyBMI</th><th scope=col>SuperiorAnteriorPosteriorShearbyBMI</th><th scope=col>InferiorLateralShearbyBMI</th><th scope=col>SuperiorLateralShearbyBMI</th><th scope=col>InferiorResultantbyBMI</th><th scope=col>SuperiorResultantbyBMI</th></tr>\n",
       "\t<tr><th></th><th scope=col>&lt;chr&gt;</th><th scope=col>&lt;fct&gt;</th><th scope=col>&lt;chr&gt;</th><th scope=col>&lt;dbl&gt;</th><th scope=col>&lt;dbl&gt;</th><th scope=col>&lt;int&gt;</th><th scope=col>&lt;fct&gt;</th><th scope=col>&lt;chr&gt;</th><th scope=col>&lt;fct&gt;</th><th scope=col>&lt;chr&gt;</th><th scope=col>⋯</th><th scope=col>&lt;dbl&gt;</th><th scope=col>&lt;dbl&gt;</th><th scope=col>&lt;dbl&gt;</th><th scope=col>&lt;dbl&gt;</th><th scope=col>&lt;dbl&gt;</th><th scope=col>&lt;dbl&gt;</th><th scope=col>&lt;dbl&gt;</th><th scope=col>&lt;dbl&gt;</th><th scope=col>&lt;dbl&gt;</th><th scope=col>&lt;dbl&gt;</th></tr>\n",
       "</thead>\n",
       "<tbody>\n",
       "\t<tr><th scope=row>31</th><td>2023LBPEMG</td><td>10</td><td>MALE</td><td>91.5</td><td>27.75</td><td>67</td><td>60+</td><td>65+</td><td>60s</td><td>Low Back Pain Patient</td><td>⋯</td><td>20.84826</td><td>20.84826</td><td>80.57371</td><td>83.01948</td><td>20.116853</td><td> 7.726353</td><td>2.388546</td><td>2.067422</td><td>83.05727</td><td>83.05727</td></tr>\n",
       "\t<tr><th scope=row>32</th><td>2023LBPEMG</td><td>10</td><td>MALE</td><td>91.5</td><td>27.75</td><td>67</td><td>60+</td><td>65+</td><td>60s</td><td>Low Back Pain Patient</td><td>⋯</td><td>20.09829</td><td>20.09829</td><td>81.95983</td><td>83.58742</td><td>17.085265</td><td>10.151495</td><td>1.409838</td><td>2.283857</td><td>83.72169</td><td>83.72169</td></tr>\n",
       "\t<tr><th scope=row>33</th><td>2023LBPEMG</td><td>10</td><td>MALE</td><td>91.5</td><td>27.75</td><td>67</td><td>60+</td><td>65+</td><td>60s</td><td>Low Back Pain Patient</td><td>⋯</td><td>18.51799</td><td>18.51799</td><td>83.39006</td><td>83.10150</td><td> 8.309348</td><td>12.684990</td><td>1.706308</td><td>2.531243</td><td>83.75903</td><td>83.75903</td></tr>\n",
       "\t<tr><th scope=row>34</th><td>2023LBPEMG</td><td>10</td><td>MALE</td><td>91.5</td><td>27.75</td><td>67</td><td>60+</td><td>65+</td><td>60s</td><td>Low Back Pain Patient</td><td>⋯</td><td>17.13079</td><td>17.13079</td><td>83.56601</td><td>82.37631</td><td> 2.342297</td><td>15.267709</td><td>3.155098</td><td>3.365340</td><td>83.60097</td><td>83.60097</td></tr>\n",
       "\t<tr><th scope=row>35</th><td>2023LBPEMG</td><td>10</td><td>MALE</td><td>91.5</td><td>27.75</td><td>67</td><td>60+</td><td>65+</td><td>60s</td><td>Low Back Pain Patient</td><td>⋯</td><td>16.44032</td><td>16.44032</td><td>81.27997</td><td>81.49702</td><td>14.353142</td><td>13.640913</td><td>5.650624</td><td>5.659103</td><td>82.58147</td><td>82.58147</td></tr>\n",
       "</tbody>\n",
       "</table>\n"
      ],
      "text/latex": [
       "A data.frame: 5 × 48\n",
       "\\begin{tabular}{r|lllllllllllllllllllll}\n",
       "  & Project & Subject & Sex & Weight & BMI & Age & Age.Group & Age.Group2 & Decade & Status & ⋯ & InferiorResultantbyMoment & SuperiorResultantbyMoment & InferiorCompressionbyBMI & SuperiorCompressionbyBMI & InferiorAnteriorPosteriorShearbyBMI & SuperiorAnteriorPosteriorShearbyBMI & InferiorLateralShearbyBMI & SuperiorLateralShearbyBMI & InferiorResultantbyBMI & SuperiorResultantbyBMI\\\\\n",
       "  & <chr> & <fct> & <chr> & <dbl> & <dbl> & <int> & <fct> & <chr> & <fct> & <chr> & ⋯ & <dbl> & <dbl> & <dbl> & <dbl> & <dbl> & <dbl> & <dbl> & <dbl> & <dbl> & <dbl>\\\\\n",
       "\\hline\n",
       "\t31 & 2023LBPEMG & 10 & MALE & 91.5 & 27.75 & 67 & 60+ & 65+ & 60s & Low Back Pain Patient & ⋯ & 20.84826 & 20.84826 & 80.57371 & 83.01948 & 20.116853 &  7.726353 & 2.388546 & 2.067422 & 83.05727 & 83.05727\\\\\n",
       "\t32 & 2023LBPEMG & 10 & MALE & 91.5 & 27.75 & 67 & 60+ & 65+ & 60s & Low Back Pain Patient & ⋯ & 20.09829 & 20.09829 & 81.95983 & 83.58742 & 17.085265 & 10.151495 & 1.409838 & 2.283857 & 83.72169 & 83.72169\\\\\n",
       "\t33 & 2023LBPEMG & 10 & MALE & 91.5 & 27.75 & 67 & 60+ & 65+ & 60s & Low Back Pain Patient & ⋯ & 18.51799 & 18.51799 & 83.39006 & 83.10150 &  8.309348 & 12.684990 & 1.706308 & 2.531243 & 83.75903 & 83.75903\\\\\n",
       "\t34 & 2023LBPEMG & 10 & MALE & 91.5 & 27.75 & 67 & 60+ & 65+ & 60s & Low Back Pain Patient & ⋯ & 17.13079 & 17.13079 & 83.56601 & 82.37631 &  2.342297 & 15.267709 & 3.155098 & 3.365340 & 83.60097 & 83.60097\\\\\n",
       "\t35 & 2023LBPEMG & 10 & MALE & 91.5 & 27.75 & 67 & 60+ & 65+ & 60s & Low Back Pain Patient & ⋯ & 16.44032 & 16.44032 & 81.27997 & 81.49702 & 14.353142 & 13.640913 & 5.650624 & 5.659103 & 82.58147 & 82.58147\\\\\n",
       "\\end{tabular}\n"
      ],
      "text/markdown": [
       "\n",
       "A data.frame: 5 × 48\n",
       "\n",
       "| <!--/--> | Project &lt;chr&gt; | Subject &lt;fct&gt; | Sex &lt;chr&gt; | Weight &lt;dbl&gt; | BMI &lt;dbl&gt; | Age &lt;int&gt; | Age.Group &lt;fct&gt; | Age.Group2 &lt;chr&gt; | Decade &lt;fct&gt; | Status &lt;chr&gt; | ⋯ ⋯ | InferiorResultantbyMoment &lt;dbl&gt; | SuperiorResultantbyMoment &lt;dbl&gt; | InferiorCompressionbyBMI &lt;dbl&gt; | SuperiorCompressionbyBMI &lt;dbl&gt; | InferiorAnteriorPosteriorShearbyBMI &lt;dbl&gt; | SuperiorAnteriorPosteriorShearbyBMI &lt;dbl&gt; | InferiorLateralShearbyBMI &lt;dbl&gt; | SuperiorLateralShearbyBMI &lt;dbl&gt; | InferiorResultantbyBMI &lt;dbl&gt; | SuperiorResultantbyBMI &lt;dbl&gt; |\n",
       "|---|---|---|---|---|---|---|---|---|---|---|---|---|---|---|---|---|---|---|---|---|---|\n",
       "| 31 | 2023LBPEMG | 10 | MALE | 91.5 | 27.75 | 67 | 60+ | 65+ | 60s | Low Back Pain Patient | ⋯ | 20.84826 | 20.84826 | 80.57371 | 83.01948 | 20.116853 |  7.726353 | 2.388546 | 2.067422 | 83.05727 | 83.05727 |\n",
       "| 32 | 2023LBPEMG | 10 | MALE | 91.5 | 27.75 | 67 | 60+ | 65+ | 60s | Low Back Pain Patient | ⋯ | 20.09829 | 20.09829 | 81.95983 | 83.58742 | 17.085265 | 10.151495 | 1.409838 | 2.283857 | 83.72169 | 83.72169 |\n",
       "| 33 | 2023LBPEMG | 10 | MALE | 91.5 | 27.75 | 67 | 60+ | 65+ | 60s | Low Back Pain Patient | ⋯ | 18.51799 | 18.51799 | 83.39006 | 83.10150 |  8.309348 | 12.684990 | 1.706308 | 2.531243 | 83.75903 | 83.75903 |\n",
       "| 34 | 2023LBPEMG | 10 | MALE | 91.5 | 27.75 | 67 | 60+ | 65+ | 60s | Low Back Pain Patient | ⋯ | 17.13079 | 17.13079 | 83.56601 | 82.37631 |  2.342297 | 15.267709 | 3.155098 | 3.365340 | 83.60097 | 83.60097 |\n",
       "| 35 | 2023LBPEMG | 10 | MALE | 91.5 | 27.75 | 67 | 60+ | 65+ | 60s | Low Back Pain Patient | ⋯ | 16.44032 | 16.44032 | 81.27997 | 81.49702 | 14.353142 | 13.640913 | 5.650624 | 5.659103 | 82.58147 | 82.58147 |\n",
       "\n"
      ],
      "text/plain": [
       "   Project    Subject Sex  Weight BMI   Age Age.Group Age.Group2 Decade\n",
       "31 2023LBPEMG 10      MALE 91.5   27.75 67  60+       65+        60s   \n",
       "32 2023LBPEMG 10      MALE 91.5   27.75 67  60+       65+        60s   \n",
       "33 2023LBPEMG 10      MALE 91.5   27.75 67  60+       65+        60s   \n",
       "34 2023LBPEMG 10      MALE 91.5   27.75 67  60+       65+        60s   \n",
       "35 2023LBPEMG 10      MALE 91.5   27.75 67  60+       65+        60s   \n",
       "   Status                ⋯ InferiorResultantbyMoment SuperiorResultantbyMoment\n",
       "31 Low Back Pain Patient ⋯ 20.84826                  20.84826                 \n",
       "32 Low Back Pain Patient ⋯ 20.09829                  20.09829                 \n",
       "33 Low Back Pain Patient ⋯ 18.51799                  18.51799                 \n",
       "34 Low Back Pain Patient ⋯ 17.13079                  17.13079                 \n",
       "35 Low Back Pain Patient ⋯ 16.44032                  16.44032                 \n",
       "   InferiorCompressionbyBMI SuperiorCompressionbyBMI\n",
       "31 80.57371                 83.01948                \n",
       "32 81.95983                 83.58742                \n",
       "33 83.39006                 83.10150                \n",
       "34 83.56601                 82.37631                \n",
       "35 81.27997                 81.49702                \n",
       "   InferiorAnteriorPosteriorShearbyBMI SuperiorAnteriorPosteriorShearbyBMI\n",
       "31 20.116853                            7.726353                          \n",
       "32 17.085265                           10.151495                          \n",
       "33  8.309348                           12.684990                          \n",
       "34  2.342297                           15.267709                          \n",
       "35 14.353142                           13.640913                          \n",
       "   InferiorLateralShearbyBMI SuperiorLateralShearbyBMI InferiorResultantbyBMI\n",
       "31 2.388546                  2.067422                  83.05727              \n",
       "32 1.409838                  2.283857                  83.72169              \n",
       "33 1.706308                  2.531243                  83.75903              \n",
       "34 3.155098                  3.365340                  83.60097              \n",
       "35 5.650624                  5.659103                  82.58147              \n",
       "   SuperiorResultantbyBMI\n",
       "31 83.05727              \n",
       "32 83.72169              \n",
       "33 83.75903              \n",
       "34 83.60097              \n",
       "35 82.58147              "
      ]
     },
     "metadata": {},
     "output_type": "display_data"
    }
   ],
   "source": [
    "# Filter trials\n",
    "data <- subset(data, Trial.Name==\"Sagital Motion\")\n",
    "head(data, n = 5)"
   ]
  },
  {
   "cell_type": "code",
   "execution_count": 102,
   "metadata": {
    "vscode": {
     "languageId": "r"
    }
   },
   "outputs": [
    {
     "name": "stdout",
     "output_type": "stream",
     "text": [
      "\n",
      "Fitting model for: SuperiorResultant \n",
      "Type III Analysis of Variance Table with Satterthwaite's method\n",
      "              Sum Sq Mean Sq NumDF DenDF F value  Pr(>F)  \n",
      "Sex             5317  5316.5     1    29  1.8159 0.18824  \n",
      "Status          1655  1655.3     1    29  0.5654 0.45816  \n",
      "Decade         18485  3696.9     5    29  1.2627 0.30649  \n",
      "Status:Decade  19075  3814.9     5    29  1.3030 0.29001  \n",
      "Sex:Status      1632  1632.2     1    29  0.5575 0.46128  \n",
      "Sex:Decade     50060 10012.0     5    29  3.4197 0.01501 *\n",
      "---\n",
      "Signif. codes:  0 '***' 0.001 '**' 0.01 '*' 0.05 '.' 0.1 ' ' 1\n",
      "\n",
      "Fitting model for: SuperiorResultantbyMoment \n",
      "Type III Analysis of Variance Table with Satterthwaite's method\n",
      "              Sum Sq Mean Sq NumDF DenDF F value    Pr(>F)    \n",
      "Sex           468.63  468.63     1    29 30.4458 6.023e-06 ***\n",
      "Status         11.10   11.10     1    29  0.7210  0.402775    \n",
      "Decade        904.10  180.82     5    29 11.7475 2.883e-06 ***\n",
      "Status:Decade  28.20    5.64     5    29  0.3664  0.867314    \n",
      "Sex:Status      0.10    0.10     1    29  0.0065  0.936284    \n",
      "Sex:Decade    336.25   67.25     5    29  4.3691  0.004368 ** \n",
      "---\n",
      "Signif. codes:  0 '***' 0.001 '**' 0.01 '*' 0.05 '.' 0.1 ' ' 1\n",
      "\n",
      "Fitting model for: SuperiorResultantbyBMI \n",
      "Type III Analysis of Variance Table with Satterthwaite's method\n",
      "              Sum Sq Mean Sq NumDF DenDF F value  Pr(>F)  \n",
      "Sex            9.670  9.6697     1    29  1.8628 0.18280  \n",
      "Status         4.404  4.4042     1    29  0.8484 0.36460  \n",
      "Decade        43.148  8.6295     5    29  1.6624 0.17530  \n",
      "Status:Decade 15.251  3.0502     5    29  0.5876 0.70934  \n",
      "Sex:Status     0.924  0.9240     1    29  0.1780 0.67620  \n",
      "Sex:Decade    66.693 13.3386     5    29  2.5696 0.04833 *\n",
      "---\n",
      "Signif. codes:  0 '***' 0.001 '**' 0.01 '*' 0.05 '.' 0.1 ' ' 1\n"
     ]
    }
   ],
   "source": [
    "response_vars <- c(\"SuperiorResultant\", \"SuperiorResultantbyMoment\", \"SuperiorResultantbyBMI\")\n",
    "\n",
    "for (response in response_vars) {\n",
    "  cat(\"\\nFitting model for:\", response, \"\\n\")\n",
    "  formula <- as.formula(paste(response, \"~ Sex + Status + Decade + Decade*Status + Sex*Status + Sex*Decade + (1 | Subject)\"))\n",
    "  model <- lmer(formula, data = data)\n",
    "  anova_results <- anova(model)\n",
    "  print(anova_results)\n",
    "}\n"
   ]
  },
  {
   "cell_type": "code",
   "execution_count": 104,
   "metadata": {
    "vscode": {
     "languageId": "r"
    }
   },
   "outputs": [
    {
     "name": "stdout",
     "output_type": "stream",
     "text": [
      "\n",
      "Fitting model for: SuperiorResultant \n",
      "Saved ANOVA results for SuperiorResultant as anova_results_SuperiorResultant.png \n",
      "\n",
      "Fitting model for: SuperiorResultantbyMoment \n",
      "Saved ANOVA results for SuperiorResultantbyMoment as anova_results_SuperiorResultantbyMoment.png \n",
      "\n",
      "Fitting model for: SuperiorResultantbyBMI \n",
      "Saved ANOVA results for SuperiorResultantbyBMI as anova_results_SuperiorResultantbyBMI.png \n"
     ]
    }
   ],
   "source": [
    "# Load necessary libraries\n",
    "library(lme4)\n",
    "library(gridExtra)\n",
    "library(ggplot2)\n",
    "\n",
    "# Define response variables\n",
    "response_vars <- c(\"SuperiorResultant\", \"SuperiorResultantbyMoment\", \"SuperiorResultantbyBMI\")\n",
    "\n",
    "# Loop through each response variable\n",
    "for (response in response_vars) {\n",
    "  cat(\"\\nFitting model for:\", response, \"\\n\")\n",
    "  \n",
    "  # Fit the model\n",
    "  formula <- as.formula(paste(response, \"~ Sex + Status + Decade + Decade*Status + Sex*Status + Sex*Decade + (1 | Subject)\"))\n",
    "  model <- lmer(formula, data = data)\n",
    "  \n",
    "  # Perform ANOVA\n",
    "  anova_results <- anova(model)\n",
    "  \n",
    "  # Round the numbers in the ANOVA table\n",
    "  anova_results_rounded <- round(anova_results, 3)\n",
    "  \n",
    "  # Add a column to indicate significance (e.g., p < 0.05)\n",
    "  anova_results_rounded$Significance <- ifelse(anova_results_rounded$`Pr(>F)` < 0.05, \"Yes\", \"No\")\n",
    "  \n",
    "  # Convert the ANOVA results to a table grob\n",
    "  table_grob <- tableGrob(anova_results_rounded)\n",
    "  \n",
    "  # Save the table as an image\n",
    "  file_name <- paste0(\"anova_results_\", response, \".png\")\n",
    "  ggsave(file_name, table_grob, width = 10, height = 6, dpi = 300)\n",
    "  \n",
    "  cat(\"Saved ANOVA results for\", response, \"as\", file_name, \"\\n\")\n",
    "}"
   ]
  },
  {
   "cell_type": "markdown",
   "metadata": {},
   "source": [
    "* Post-Hoc Analysis"
   ]
  },
  {
   "cell_type": "code",
   "execution_count": null,
   "metadata": {
    "vscode": {
     "languageId": "r"
    }
   },
   "outputs": [],
   "source": [
    "library(emmeans)\n",
    "\n",
    "# Pairwise comparisons\n",
    "emmeans_results <- emmeans(model, ~ Status * Sex * Decade)\n",
    "pairs(emmeans_results)\n"
   ]
  },
  {
   "cell_type": "markdown",
   "metadata": {},
   "source": [
    "Normality of Residuals"
   ]
  },
  {
   "cell_type": "code",
   "execution_count": 23,
   "metadata": {
    "vscode": {
     "languageId": "r"
    }
   },
   "outputs": [
    {
     "data": {
      "image/png": "[encoded data removed]",
      "text/plain": [
       "plot without title"
      ]
     },
     "metadata": {
      "image/png": {
       "height": 420,
       "width": 420
      }
     },
     "output_type": "display_data"
    },
    {
     "data": {
      "image/png": "[encoded data removed]",
      "text/plain": [
       "Plot with title \"Normal Q-Q Plot\""
      ]
     },
     "metadata": {
      "image/png": {
       "height": 420,
       "width": 420
      }
     },
     "output_type": "display_data"
    },
    {
     "data": {
      "image/png": "[encoded data removed]",
      "text/plain": [
       "plot without title"
      ]
     },
     "metadata": {
      "image/png": {
       "height": 420,
       "width": 420
      }
     },
     "output_type": "display_data"
    }
   ],
   "source": [
    "plot(model)\n",
    "qqnorm(resid(model))\n",
    "qqline(resid(model))\n",
    "plot(fitted(model), resid(model))\n"
   ]
  }
 ],
 "metadata": {
  "kernelspec": {
   "display_name": "R",
   "language": "R",
   "name": "ir"
  },
  "language_info": {
   "codemirror_mode": "r",
   "file_extension": ".r",
   "mimetype": "text/x-r-source",
   "name": "R",
   "pygments_lexer": "r",
   "version": "4.4.1"
  }
 },
 "nbformat": 4,
 "nbformat_minor": 2
}
